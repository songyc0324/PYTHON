{
 "cells": [
  {
   "cell_type": "code",
   "execution_count": 1,
   "id": "ba56579d-1419-4018-863e-7c47d339be82",
   "metadata": {},
   "outputs": [
    {
     "name": "stdout",
     "output_type": "stream",
     "text": [
      "Hello world\n"
     ]
    }
   ],
   "source": [
    "print(\"Hello world\")"
   ]
  },
  {
   "cell_type": "code",
   "execution_count": 2,
   "id": "0e4296d4-6dcb-4f8c-8b85-1eb65fdadcf2",
   "metadata": {},
   "outputs": [
    {
     "name": "stdin",
     "output_type": "stream",
     "text": [
      "첫 번째 숫자를 입력하세요. 9\n",
      "두 번째 숫자를 입력하세요. 3\n"
     ]
    },
    {
     "name": "stdout",
     "output_type": "stream",
     "text": [
      "12 6 27 3.0\n"
     ]
    }
   ],
   "source": [
    "a = input(\"첫 번째 숫자를 입력하세요.\")\n",
    "b = input(\"두 번째 숫자를 입력하세요.\")\n",
    "a = int(a)\n",
    "b = int(b)\n",
    "\n",
    "print(a + b, a - b, a * b, a / b)"
   ]
  },
  {
   "cell_type": "code",
   "execution_count": 3,
   "id": "3ac62bb3-0533-474a-8d93-a0f60243cf49",
   "metadata": {},
   "outputs": [
    {
     "name": "stdin",
     "output_type": "stream",
     "text": [
      "어느 캠퍼스에 다니시나요? 춘천캠퍼스\n"
     ]
    },
    {
     "name": "stdout",
     "output_type": "stream",
     "text": [
      "저는 한국폴리텍대학 춘천캠퍼스 에 재학중입니다.\n"
     ]
    }
   ],
   "source": [
    "campus = input(\"어느 캠퍼스에 다니시나요?\")\n",
    "print(\"저는 한국폴리텍대학\", campus, \"에 재학중입니다.\")"
   ]
  },
  {
   "cell_type": "code",
   "execution_count": 4,
   "id": "8cf46e51-6559-4d81-b84d-d00b883ce4cb",
   "metadata": {},
   "outputs": [
    {
     "name": "stdout",
     "output_type": "stream",
     "text": [
      "파이썬은 처음 배웁니다.\n",
      "1 2 3 4 5\n",
      "100\n"
     ]
    }
   ],
   "source": [
    "print(\"파이썬은 처음 배웁니다.\")\n",
    "print(\"1\", \"2\", \"3\", \"4\", \"5\")\n",
    "print(100)"
   ]
  },
  {
   "cell_type": "code",
   "execution_count": 5,
   "id": "b4993531-1948-4980-afed-5fa0d80bc502",
   "metadata": {},
   "outputs": [
    {
     "name": "stdout",
     "output_type": "stream",
     "text": [
      "KOREA POLYTECHNICS 한국폴리텍대학 100\n"
     ]
    }
   ],
   "source": [
    "print(\"KOREA POLYTECHNICS\", '한국폴리텍대학', 100)"
   ]
  },
  {
   "cell_type": "code",
   "execution_count": 6,
   "id": "d70bf330-8087-43d3-8da7-8f8e02d2ac29",
   "metadata": {},
   "outputs": [
    {
     "data": {
      "text/plain": [
       "7"
      ]
     },
     "execution_count": 6,
     "metadata": {},
     "output_type": "execute_result"
    }
   ],
   "source": [
    "a = 7\n",
    "a"
   ]
  },
  {
   "cell_type": "code",
   "execution_count": 7,
   "id": "93a51ab4-6490-4a82-8e88-bbbcd9ca56dd",
   "metadata": {},
   "outputs": [
    {
     "data": {
      "text/plain": [
       "28"
      ]
     },
     "execution_count": 7,
     "metadata": {},
     "output_type": "execute_result"
    }
   ],
   "source": [
    "학과수 = 14\n",
    "학급수 = 2\n",
    "학과수 * 학급수"
   ]
  },
  {
   "cell_type": "code",
   "execution_count": 8,
   "id": "e5d4b6f1-cfd7-4c43-b1f6-4e997cdf4e39",
   "metadata": {},
   "outputs": [
    {
     "name": "stdin",
     "output_type": "stream",
     "text": [
      "반지름을 입력하세요. 3.14159262\n"
     ]
    },
    {
     "name": "stdout",
     "output_type": "stream",
     "text": [
      "원주 =  19.7292016536 넓이 =  30.99055715672078\n"
     ]
    }
   ],
   "source": [
    "r = float(input('반지름을 입력하세요.'))\n",
    "pi = 3.14\n",
    "print(\"원주 = \", 2*pi*r, \"넓이 = \", pi*r*r)"
   ]
  },
  {
   "cell_type": "code",
   "execution_count": 9,
   "id": "a30ce6a6-0cbd-4f93-8d1f-9fa21594f844",
   "metadata": {},
   "outputs": [
    {
     "data": {
      "text/plain": [
       "2"
      ]
     },
     "execution_count": 9,
     "metadata": {},
     "output_type": "execute_result"
    }
   ],
   "source": [
    "a = 1\n",
    "a = a + 1\n",
    "a"
   ]
  },
  {
   "cell_type": "code",
   "execution_count": 11,
   "id": "4326d21d-418f-4198-a03e-73b9d9450d1e",
   "metadata": {},
   "outputs": [
    {
     "name": "stdout",
     "output_type": "stream",
     "text": [
      "10 20\n",
      "20 10\n"
     ]
    }
   ],
   "source": [
    "a, b = 10, 20\n",
    "print(a, b)\n",
    "a, b = b, a\n",
    "print(a, b)"
   ]
  },
  {
   "cell_type": "code",
   "execution_count": 15,
   "id": "cb72a49c-9595-4a59-ab46-8a1ef2f85665",
   "metadata": {},
   "outputs": [
    {
     "name": "stdin",
     "output_type": "stream",
     "text": [
      "키를 입력하세요. 1.7\n",
      "몸무게를 입력하세요. 84\n"
     ]
    },
    {
     "name": "stdout",
     "output_type": "stream",
     "text": [
      "당신의 BMI는 29.065743944636683 입니다.\n"
     ]
    }
   ],
   "source": [
    "meter = float(input('키를 입력하세요.'))\n",
    "kg = float(input('몸무게를 입력하세요.'))\n",
    "print(\"당신의 BMI는\", kg/(meter*meter), \"입니다.\")"
   ]
  },
  {
   "cell_type": "code",
   "execution_count": null,
   "id": "7b13f840-1cee-4c59-80d8-33262e753559",
   "metadata": {},
   "outputs": [],
   "source": []
  }
 ],
 "metadata": {
  "kernelspec": {
   "display_name": "Python 3 (ipykernel)",
   "language": "python",
   "name": "python3"
  },
  "language_info": {
   "codemirror_mode": {
    "name": "ipython",
    "version": 3
   },
   "file_extension": ".py",
   "mimetype": "text/x-python",
   "name": "python",
   "nbconvert_exporter": "python",
   "pygments_lexer": "ipython3",
   "version": "3.9.13"
  }
 },
 "nbformat": 4,
 "nbformat_minor": 5
}
